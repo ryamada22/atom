{
 "cells": [
  {
   "cell_type": "code",
   "execution_count": 2,
   "metadata": {},
   "outputs": [
    {
     "name": "stderr",
     "output_type": "stream",
     "text": [
      "C:\\Users\\ryamada\\Anaconda3\\lib\\site-packages\\ipykernel_launcher.py:20: RuntimeWarning: covariance is not positive-semidefinite.\n",
      "C:\\Users\\ryamada\\Anaconda3\\lib\\site-packages\\matplotlib\\figure.py:459: UserWarning: matplotlib is currently using a non-GUI backend, so cannot show the figure\n",
      "  \"matplotlib is currently using a non-GUI backend, \"\n"
     ]
    },
    {
     "data": {
      "image/png": "[encoded data removed]",
      "text/plain": [
       "<Figure size 432x288 with 1 Axes>"
      ]
     },
     "metadata": {},
     "output_type": "display_data"
    }
   ],
   "source": [
    "#混合正規分布\n",
    "from numpy.random import *\n",
    "from matplotlib import pyplot as plt\n",
    "import scipy as sp\n",
    "import seaborn as sns\n",
    "import numpy as np\n",
    "%matplotlib inline\n",
    "mu1 = [0, 0]\n",
    "sigma1 = [[30, 20], [20, 50]]\n",
    "mu2 = [10, 10]\n",
    "sigma2 = [[30, 10], [20, 20]]\n",
    "r1 = 0.5\n",
    "r2 = 1 - r1\n",
    "\n",
    "# 2次元正規乱数を1万個生成\n",
    "n = 100\n",
    "num1 = np.random.binomial(n, r1, 1)\n",
    "num2 = n - num1\n",
    "values1 = multivariate_normal(mu1, sigma1, num1)\n",
    "values2 = multivariate_normal(mu2, sigma2, num2)\n",
    "data = np.concatenate((values1,values2),axis=0)\n",
    "\n",
    "#描画\n",
    "fig = plt.figure()\n",
    "ax = fig.add_subplot(1,1,1)\n",
    "ax.scatter(values1[:,0],values1[:,1], c='red')\n",
    "ax.scatter(values2[:,0],values2[:,1], c='blue')\n",
    "ax.set_title('second scatter plot')\n",
    "ax.set_xlabel('x')\n",
    "ax.set_ylabel('y')\n",
    "fig.show()"
   ]
  },
  {
   "cell_type": "code",
   "execution_count": null,
   "metadata": {},
   "outputs": [],
   "source": []
  }
 ],
 "metadata": {
  "kernelspec": {
   "display_name": "Python 3",
   "language": "python",
   "name": "python3"
  },
  "language_info": {
   "codemirror_mode": {
    "name": "ipython",
    "version": 3
   },
   "file_extension": ".py",
   "mimetype": "text/x-python",
   "name": "python",
   "nbconvert_exporter": "python",
   "pygments_lexer": "ipython3",
   "version": "3.6.5"
  }
 },
 "nbformat": 4,
 "nbformat_minor": 2
}
