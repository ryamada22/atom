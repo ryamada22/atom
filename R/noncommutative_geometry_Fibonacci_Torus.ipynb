{
 "cells": [
  {
   "cell_type": "markdown",
   "id": "c35d0e51",
   "metadata": {},
   "source": [
    "## 資料\n",
    "https://arxiv.org/abs/math-ph/0008028　\n",
    "\n",
    "## ペンローズタイリングの非可換幾何とフィボナッチ数\n",
    "\n",
    "ペンローズタイリングでは、一回り大きめのタイルに合併するルール化された手順と連動して、各タイルに、0,1の列を割り当てることができる。\n",
    "この0,1数列は、0の後には0,1の両方が続きうるが、1の後には0しか続かないという制約がある。\n",
    "\n",
    "同一のタイリングにあるタイルは、タイル合併ルールを繰り返すことで、いつか必ず、同一のタイルに紐づくので、0,1列は、合併された以降は同一になる。\n",
    "\n",
    "このことから、0,1列がある番地以降同一になるなら、それは同一タイリングに所属するタイル～0,1列であるという意味で同一視することにすると、\n",
    "無限長0,1列の全体は、同一タイリングの構成要素であることで商を取った空間になる。\n",
    "\n",
    "この空間に非可換な作用素環が付随するので、この非可換環のなす空間を幾何的にとらえて非可換幾何という。\n",
    "\n",
    "0の後には0か1、1の後には必ず0というルールから、0,1列をだんだん長くしていくと、末尾が0,1の0,1列の長さの場合の数はフィボナッチ数列になる"
   ]
  },
  {
   "cell_type": "markdown",
   "id": "f3f16b09",
   "metadata": {},
   "source": [
    "## フィボナッチ鎖とその２次元平面化\n",
    "\n",
    "ペンローズタイリングのタイルには、0の後には0,1、1の後には必ず0という数列が対応する。\n",
    "\n",
    "今、0、または、1からスタートし、0の下には、左から0,1、1の下には0を置きながら、0,1列を左右列としてだんだん長くしていくと、0,1列ができる。\n",
    "\n",
    "無限に長くできるし、その数列の部分を取り出すと色々な0,1列ができる。\n",
    "\n",
    "これをフィボナッチ鎖と言う。\n",
    "\n",
    "0の次は0と1、1の次は0というルールだけだと、かなり自由に0,1列が作れるが、数行前で示したやり方0,1列を作ると、制約がきつくなる。\n",
    "\n",
    "その制約が以下のようになる。\n",
    "\n",
    "ある点$(0,b),0 < b < 1)$ を出発点として、ベクトルvL $(\\cos{\\theta},-\\sin{\\theta})$もしくは、vS $(\\sin{\\theta},\\cos{\\theta})$で進む($\\cos{\\theta}+\\sin{\\theta}=\\tau = \\frac{1 +\\sqrt{5}}{2}$($\\tau$}は黄金比)事とする。\n",
    "\n",
    "ただし、鉛直軸の座標は0以上$\\cos{\\theta}+ \\sin{\\theta}$以下とする。この条件を課すと、vL,vSのどちらを選ぶべきかは、ほぼ確実に確定する。\n",
    "\n",
    "唯一、確定しないのは、$b = \\sin{\\theta}$のときであり、その場合は、vLで進むと、鉛直軸座標が0となり、vSで進むと鉛直軸座標が$\\cos{\\theta}+\\sin{\\theta}$となる。つまり、両方のベクトルの選択が可能な特別な場合に相当する。\n",
    "\n",
    "vL,vSの選択ルールからわかるように、この折れ線は鉛直軸座標が0から$\\cos{\\theta}+\\sin{\\theta}$の間に納まる。"
   ]
  },
  {
   "cell_type": "code",
   "execution_count": 14,
   "id": "02ba0402",
   "metadata": {},
   "outputs": [
    {
     "data": {
      "image/png": "[encoded data removed]",
      "text/plain": [
       "plot without title"
      ]
     },
     "metadata": {},
     "output_type": "display_data"
    }
   ],
   "source": [
    "gr <- (1+sqrt(5))/2 # 黄金比\n",
    "\n",
    "theta <- atan(1/gr)\n",
    "\n",
    "Lv <- c(cos(-theta),sin(-theta))\n",
    "Sv <- c(cos(-theta+pi/2),sin(-theta+pi/2))\n",
    "\n",
    "x <- matrix(0,0,2)\n",
    "\n",
    "r <- runif(1) * (cos(theta) + sin(theta))\n",
    "\n",
    "n <- 20\n",
    "\n",
    "y.series <- c(r)\n",
    "LS <- c()\n",
    "for(i in 1:n){\n",
    "\ttmp.y <- y.series[length(y.series)]\n",
    "\tif(tmp.y + Sv[2] > cos(theta) + sin(theta)){\n",
    "\t\tLS <- c(LS,1)\n",
    "\t\ty.series <- c(y.series,tmp.y + Lv[2])\n",
    "\t}else{\n",
    "\t\tLS <- c(LS,0)\n",
    "\t\ty.series <- c(y.series,tmp.y + Sv[2])\n",
    "\t}\n",
    "}\n",
    "\n",
    "plot(1:(n+1),y.series,type=\"l\",asp=TRUE)\n",
    "abline(h=c(0,cos(theta)+sin(theta)),col=2)"
   ]
  },
  {
   "cell_type": "markdown",
   "id": "44a8b34f",
   "metadata": {},
   "source": [
    "この折れ線は、始点の鉛直軸座標が無理数の場合、\n",
    "同一の折れ線には同じ鉛直軸座標があらわれることはない。\n",
    "なぜなら、折れ線の折れ点は、長さ１の２次元格子を角度$\\theta$だけ\n",
    "傾けてできる格子上の点になるからである。"
   ]
  },
  {
   "cell_type": "markdown",
   "id": "976f1d47",
   "metadata": {},
   "source": [
    "始点の鉛直軸座標を色々に変えて折線を描くと、重ならない。\n",
    "\n",
    "複数の折れ線をかなりの長さで描くと、上下端の座標の差がほぼ$\\cos{\\theta}+\\sin{\\theta}$になることも合わせて示す。\n",
    "\n",
    "無限長にすると、この上下端座標値の差が$\\cos{\\theta}+\\sin{\\theta}$に収束する。"
   ]
  },
  {
   "cell_type": "code",
   "execution_count": 15,
   "id": "187f5387",
   "metadata": {},
   "outputs": [
    {
     "name": "stdout",
     "output_type": "stream",
     "text": [
      "[1] 1.358275 1.369466\n",
      "[1] 1.376382\n"
     ]
    },
    {
     "data": {
      "image/png": "[encoded data removed]",
      "text/plain": [
       "plot without title"
      ]
     },
     "metadata": {},
     "output_type": "display_data"
    }
   ],
   "source": [
    "n <- 100\n",
    "\n",
    "N <- 100\n",
    "y.series.mat <- matrix(0,n+1,N)\n",
    "for(ii in 1:N){\n",
    "\tr <- runif(1) * (cos(theta) + sin(theta))\n",
    "\n",
    "\ty.series <- c(r)\n",
    "\tLS <- c()\n",
    "\tfor(i in 1:n){\n",
    "\t\ttmp.y <- y.series[length(y.series)]\n",
    "\t\tif(tmp.y + Sv[2] > cos(theta) + sin(theta)){\n",
    "\t\t\tLS <- c(LS,1)\n",
    "\t\t\ty.series <- c(y.series,tmp.y + Lv[2])\n",
    "\t\t}else{\n",
    "\t\t\tLS <- c(LS,0)\n",
    "\t\t\ty.series <- c(y.series,tmp.y + Sv[2])\n",
    "\t\t}\n",
    "\t}\n",
    "\ty.series.mat[,ii] <- y.series\n",
    "}\n",
    "\n",
    "matplot(1:(n+1),y.series.mat,type=\"l\",asp=TRUE)\n",
    "abline(h=c(0,cos(theta)+sin(theta)),col=2)\n",
    "\n",
    "print(range(apply(y.series.mat,2,function(x){max(x)-min(x)})))\n",
    "\n",
    "print(cos(theta)+sin(theta))\n",
    "\n"
   ]
  },
  {
   "cell_type": "markdown",
   "id": "d8372744",
   "metadata": {},
   "source": [
    "## 非可換トーラスとFoliation (葉層化)\n",
    "\n",
    "１辺の長さが１の正方形の左右辺と上下辺とを張り合わせるとトーラスができる。\n",
    "\n",
    "正方形の下辺の一点から、正方形上、鉛直に進み、上辺に達すると、トーラス上では、もとの点に戻ったことになる。\n",
    "\n",
    "今、左右辺は普通に張り合わせる。\n",
    "上下辺を張り合わせるときに少しずらしても、張り合わせることができる。\n",
    "\n",
    "正方形の下辺の一点から、同様に進むと、トーラス上では元の点に戻らない。\n",
    "\n",
    "このずれが無理数のとき、何度回っても、永遠に元の点には戻らないから、無限に長い「まっすぐな線」が引ける。\n",
    "\n",
    "そして、出発点をちょっとずらして平行に進むと、交わることの無い無限に長い平行線が引ける。\n",
    "出発点のずらし方は無限にあるから、\n",
    "無限に長いまっすぐな線を無限通りトーラス上に並べることが出来る。\n",
    "そしてその線は互いに一点も共有しないし、無限にたくさんの線によってトーラスは敷き詰められる。\n",
    "\n",
    "これを非可換トーラスのFoliationと言う。"
   ]
  },
  {
   "cell_type": "markdown",
   "id": "2e6ed593",
   "metadata": {},
   "source": [
    "## 非可換トーラスでフィボナッチ鎖\n",
    "\n",
    "正方形の上下辺をずらして張り合わせるときに、ずらす程度は色々にできるが、$\\frac{1}{\\tau}$ずらすこともできる。\n",
    "そして、このずれは無理数である。\n",
    "\n",
    "これがフィボナッチ鎖の生成と関係がある。\n",
    "\n",
    "ある直線 $ y = \\frac{1}{\\tau} x + b; 0 < b < 1$ を考える。\n",
    "\n",
    "この直線を、点$(0,b)$から横軸正方向に進むことを考える。\n",
    "\n",
    "辺の長さ１の正方格子とこの直線の交点を順に数えることとし、交点が水平線のときはS,鉛直線のときはLとすると、LSの列ができる。\n",
    "\n",
    "今、辺１の正方形をトーラスを作る元の正方形とすれば、直線は正方形の端に来るたびに折り返して、同じ正方形に再出現する。\n",
    "\n",
    "したがって、$\\frac{1}{\\tau}$だけ上下辺をずらして張り合わせたトーラス上にまっすくな線を引くことと、２次元格子に$y = \\frac[1}{\\tau} +b$の直線を引くことは同じことで、\n",
    "直線の選び方($b$の取り方)により、LS列が一意に定まることがわかる。\n",
    "\n",
    "また、LSの並び方は$b$の取り方により変わって来る。\n",
    "\n",
    "これがトーラスを用いたフィボナッチ鎖の作り方である。\n",
    "\n"
   ]
  },
  {
   "cell_type": "code",
   "execution_count": 16,
   "id": "1c13162c",
   "metadata": {},
   "outputs": [
    {
     "data": {
      "image/png": "[encoded data removed]",
      "text/plain": [
       "plot without title"
      ]
     },
     "metadata": {},
     "output_type": "display_data"
    }
   ],
   "source": [
    "# 青点がL、赤点がS\n",
    "b <- runif(1)\n",
    "\n",
    "t <- seq(from=-3,to=10,length=1000)\n",
    "\n",
    "y <- 1/gr * t + b\n",
    "\n",
    "plot(t,y,type=\"l\",asp=TRUE)\n",
    "\n",
    "xint <- (-3):10\n",
    "yint <- 1/gr * xint + b\n",
    "points(xint,yint,pch=20,cex=2,col=\"blue\")\n",
    "\n",
    "yint2 <- (-3):10\n",
    "xint2 <- gr * yint2 - b * gr\n",
    "points(xint2,yint2,pch=20,cex=2,col=\"red\")"
   ]
  },
  {
   "cell_type": "markdown",
   "id": "b2a30e59",
   "metadata": {},
   "source": [
    "## 傾けた格子点を進む場合と、非可換トーラスを繰り返し回る場合の関係\n",
    "\n",
    "幅$\\cos{\\theta} + \\sin{\\theta}$の帯の中に納まるように、角度$\\theta$だけ傾けた格子点を進むという条件は\n",
    "\n",
    "$$\n",
    "b < \\cos{\\theta} \\Longrightarrow S \\text{and } b' = b + \\sin{\\theta}\\\\\n",
    "b > \\cos{\\theta} \\Longrightarrow L \\text{and } b' = b - \\cos{\\theta}\n",
    "$$\n",
    "\n",
    "非可換トーラス($y = \\frac{1}{\\tau} x + \\beta$と正方格子の交点)の場合は\n",
    "\n",
    "$$\n",
    "\\beta > 1 - \\frac{1}{\\tau} \\Longrightarrow S\\\\\n",
    "\\beta < 1 - \\frac{1}{\\tau} \\Longrightarrow L\n",
    "$$\n",
    "\n",
    "ここで直線 $y = \\frac{1}{\\tau} x + \\beta$ のy切片を表す変数 $0 < \\beta < 1$を$0 < \\alpha =1 - \\beta < 1$ と置き換えると\n",
    "\n",
    "$$\n",
    "\\alpha <  \\frac{1}{\\tau} \\Longrightarrow S　\\text{and } \\alpha　' = \\alpha + (1-\\frac{1}{\\tau})\\\\\n",
    "\\alpha > \\frac{1}{\\tau} \\Longrightarrow L \\text{and } \\alpha　' = \\alpha - \\frac{1}{\\tau}\n",
    "$$\n",
    "\n",
    "となる。\n",
    "\n",
    "これは、$\\alpha <- \\frac{1}{\\tau}$の場合には、y軸の値$1-\\alpha$が$1-\\alpha + \\frac{1}{\\tau}$に増えるが、トーラスを作る正方形的の左側のy切片的には、$-alpha + \\frac{1}{\\tau}$に戻って来ることから、新たな$alpha$値($1-$\\text{y切片}$)は$1-\\alpha + \\frac{1}{\\tau}$に更新される、という意味であり、また、\n",
    "$\\alpha > \\frac{1}{\\tau}$ の場合には、y切片的には$1-\\alpha + \\frac{1}{\\tau}$になり、この値が新たなy切片値となるから、$1-\\text{y切片}$は$1-(1-\\alpha + \\frac{1}{\\tau}) = \\alpha - \\frac{1}{\\tau}$が新たな$\\alpha$値は$\\alpha -\\frac{1}{\\tau}$に更新される、という意味である。\n",
    "\n",
    "２つの方法の更新式の関係をもう少し確認しておく。\n",
    "\n",
    "$$\n",
    "b < \\cos{\\theta} \\Longrightarrow S \\text{and } b' = b + \\sin{\\theta}\\\\\n",
    "b > \\cos{\\theta} \\Longrightarrow L \\text{and } b' = b - \\cos{\\theta}\n",
    "$$\n",
    "と比較してみる。\n",
    "\n",
    "$\\cos{\\theta}$が$\\frac{1}{\\tau}$に対応し、$\\sin{\\theta}$が$1-\\frac{1}{\\tau}$に対応している。\n",
    "\n",
    "また、帯幅$\\cos{\\theta} + \\sin{\\theta}$が$\\frac{1}{\\tau} + (1-\\frac{1}{\\tau})=1$に対応している。\n",
    "\n",
    "\n",
    "実際、\n",
    "$$\n",
    "\\frac{\\cos{\\theta}}{\\sin{\\theta}} = \\tau\\\\\n",
    "\\frac{\\sin{\\theta}}{\\cos{\\theta}} = \\frac{1}{\\tau} = 1- \\tau\n",
    "$$\n",
    "であり、\n",
    "\n",
    "$$\n",
    "\\frac{1}{\\tau} \\times (\\cos{\\theta} + \\sin{\\theta}) = \\cos{\\theta}\\\\\n",
    "(1-\\frac{1}{\\tau}) \\times (\\cos{\\theta} + \\sin{\\theta}) = \\sin{\\theta}\n",
    "$$\n",
    "定数倍($\\cos{\\theta} + \\sin{\\theta}$)な関係として同じであることがわかる。"
   ]
  },
  {
   "cell_type": "code",
   "execution_count": 17,
   "id": "abdba26b",
   "metadata": {},
   "outputs": [
    {
     "data": {
      "text/html": [
       "-1.11022302462516e-16"
      ],
      "text/latex": [
       "-1.11022302462516e-16"
      ],
      "text/markdown": [
       "-1.11022302462516e-16"
      ],
      "text/plain": [
       "[1] -1.110223e-16"
      ]
     },
     "metadata": {},
     "output_type": "display_data"
    },
    {
     "data": {
      "text/html": [
       "1.11022302462516e-16"
      ],
      "text/latex": [
       "1.11022302462516e-16"
      ],
      "text/markdown": [
       "1.11022302462516e-16"
      ],
      "text/plain": [
       "[1] 1.110223e-16"
      ]
     },
     "metadata": {},
     "output_type": "display_data"
    },
    {
     "data": {
      "text/html": [
       "2.22044604925031e-16"
      ],
      "text/latex": [
       "2.22044604925031e-16"
      ],
      "text/markdown": [
       "2.22044604925031e-16"
      ],
      "text/plain": [
       "[1] 2.220446e-16"
      ]
     },
     "metadata": {},
     "output_type": "display_data"
    }
   ],
   "source": [
    "1/gr * (cos(theta) + sin(theta)) - cos(theta) # 0\n",
    "(1-1/gr) * (cos(theta) + sin(theta)) - sin(theta) # 0\n",
    "(1-1/gr)/(1/gr) - sin(theta)/cos(theta) # 0"
   ]
  }
 ],
 "metadata": {
  "kernelspec": {
   "display_name": "R",
   "language": "R",
   "name": "ir"
  },
  "language_info": {
   "codemirror_mode": "r",
   "file_extension": ".r",
   "mimetype": "text/x-r-source",
   "name": "R",
   "pygments_lexer": "r",
   "version": "3.5.2"
  }
 },
 "nbformat": 4,
 "nbformat_minor": 5
}
