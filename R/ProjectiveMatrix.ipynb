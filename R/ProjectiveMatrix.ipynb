{
 "cells": [
  {
   "cell_type": "markdown",
   "id": "fe909611",
   "metadata": {},
   "source": [
    "# 射影行列\n",
    "\n",
    "フォン・ノイマン環 https://en.wikipedia.org/wiki/Von_Neumann_algebra (Wikipedia記事)を勉強していると、射影行列というものが出てくる。\n",
    "\n",
    "その環の要素の説明に射影行列が出てくる。\n",
    "\n",
    "$$\n",
    "E = EE (=E^2) = E^*\n",
    "$$\n",
    "\n",
    "であると言う。\n",
    "\n",
    "射影行列は線形回帰の文脈でも登場する。\n",
    "Wikipediaの記事はこちら：https://en.wikipedia.org/wiki/Projection_matrix　\n",
    "\n",
    "最小２乗法により、観測値セットを表す点から、モデル部分空間への垂線の足が推測値セットを表す点になることを言っている。\n",
    "\n",
    "WikipediaVon Neumann algebraの記事には、von Neumann algebraとProjectionsとの関連として\n",
    "\"they (projections) are exactly the operators which give an orthogonal projection of H onto some closed subspace.\"\n",
    "\n",
    "と記載されているように、射影行列は空間を亜空間に直交射影する。\n",
    "\n",
    "行列を考えているから、この射影は線形射影である。\n",
    "\n",
    "空間のすべての点が(線形)部分空間に射影されるから、射影行列を構成するベクトルは線形独立ではなく、固有値の中に0が含まれる～行列式は0である。"
   ]
  }
 ],
 "metadata": {
  "kernelspec": {
   "display_name": "R",
   "language": "R",
   "name": "ir"
  },
  "language_info": {
   "codemirror_mode": "r",
   "file_extension": ".r",
   "mimetype": "text/x-r-source",
   "name": "R",
   "pygments_lexer": "r",
   "version": "3.5.2"
  }
 },
 "nbformat": 4,
 "nbformat_minor": 5
}
